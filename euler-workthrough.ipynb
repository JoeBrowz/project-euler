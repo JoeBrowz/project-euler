{
 "cells": [
  {
   "cell_type": "code",
   "execution_count": 46,
   "id": "accredited-ordering",
   "metadata": {},
   "outputs": [],
   "source": [
    "from collections import Counter\n",
    "import numpy as np\n",
    "import math"
   ]
  },
  {
   "cell_type": "markdown",
   "id": "determined-steering",
   "metadata": {},
   "source": [
    "## Moch Tech Interview Question"
   ]
  },
  {
   "cell_type": "code",
   "execution_count": 75,
   "id": "tracked-nomination",
   "metadata": {},
   "outputs": [],
   "source": [
    "a = [1,2,3,4,3,4,3]"
   ]
  },
  {
   "cell_type": "code",
   "execution_count": 76,
   "id": "sweet-customer",
   "metadata": {},
   "outputs": [],
   "source": [
    "def duplicates(lst):\n",
    "    return {x for x in lst if lst.count(x) > 1}"
   ]
  },
  {
   "cell_type": "code",
   "execution_count": 77,
   "id": "animated-thermal",
   "metadata": {},
   "outputs": [],
   "source": [
    "def duplicates2(lst):\n",
    "    count = Counter(lst)\n",
    "    return [key for key, val in count.items() if val > 1]"
   ]
  },
  {
   "cell_type": "code",
   "execution_count": 78,
   "id": "rational-hands",
   "metadata": {},
   "outputs": [
    {
     "data": {
      "text/plain": [
       "{3, 4}"
      ]
     },
     "execution_count": 78,
     "metadata": {},
     "output_type": "execute_result"
    }
   ],
   "source": [
    "duplicates(a)"
   ]
  },
  {
   "cell_type": "code",
   "execution_count": 10,
   "id": "smaller-expense",
   "metadata": {},
   "outputs": [],
   "source": [
    "def duplicates3(lst):\n",
    "    unique = []\n",
    "    duplicate = set()\n",
    "    for item in lst:\n",
    "        if item in unique:\n",
    "            duplicate.add(item)\n",
    "        else:\n",
    "            unique.append(item)\n",
    "    return list(duplicate)"
   ]
  },
  {
   "cell_type": "code",
   "execution_count": 11,
   "id": "brave-typing",
   "metadata": {},
   "outputs": [
    {
     "data": {
      "text/plain": [
       "[3, 4]"
      ]
     },
     "execution_count": 11,
     "metadata": {},
     "output_type": "execute_result"
    }
   ],
   "source": [
    "duplicates3(a)"
   ]
  },
  {
   "cell_type": "code",
   "execution_count": 3,
   "id": "polyphonic-rider",
   "metadata": {},
   "outputs": [],
   "source": [
    "  def get_largest_item(items):\n",
    "    largest = float('-inf')\n",
    "    for item in items:\n",
    "        if item > largest:\n",
    "            largest = item\n",
    "    return largest"
   ]
  },
  {
   "cell_type": "code",
   "execution_count": 6,
   "id": "sustained-exposure",
   "metadata": {},
   "outputs": [
    {
     "data": {
      "text/plain": [
       "5"
      ]
     },
     "execution_count": 6,
     "metadata": {},
     "output_type": "execute_result"
    }
   ],
   "source": [
    "get_largest_item(arr)"
   ]
  },
  {
   "cell_type": "code",
   "execution_count": 120,
   "id": "worthy-membership",
   "metadata": {},
   "outputs": [],
   "source": [
    "mult = np.array([x for x in range(1, 1000) if x % 3 == 0 or x % 5 == 0])"
   ]
  },
  {
   "cell_type": "code",
   "execution_count": 46,
   "id": "measured-consciousness",
   "metadata": {},
   "outputs": [
    {
     "data": {
      "text/plain": [
       "5702887"
      ]
     },
     "execution_count": 46,
     "metadata": {},
     "output_type": "execute_result"
    }
   ],
   "source": [
    "fib = [1, 2, 3, 5, 8]\n",
    "last = 8\n",
    "while last < 4e6:\n",
    "    fib.append(fib[-1] + fib[-2])\n",
    "    last = fib[-1]\n",
    "fib.pop(-1)"
   ]
  },
  {
   "cell_type": "code",
   "execution_count": 47,
   "id": "french-canal",
   "metadata": {},
   "outputs": [
    {
     "data": {
      "text/plain": [
       "3524578"
      ]
     },
     "execution_count": 47,
     "metadata": {},
     "output_type": "execute_result"
    }
   ],
   "source": [
    "fib[-1]"
   ]
  },
  {
   "cell_type": "code",
   "execution_count": 52,
   "id": "small-soldier",
   "metadata": {},
   "outputs": [],
   "source": [
    "even_fib = np.array([x for x in fib if x % 2 == 0])"
   ]
  },
  {
   "cell_type": "code",
   "execution_count": 53,
   "id": "abandoned-logging",
   "metadata": {},
   "outputs": [
    {
     "data": {
      "text/plain": [
       "4613732"
      ]
     },
     "execution_count": 53,
     "metadata": {},
     "output_type": "execute_result"
    }
   ],
   "source": [
    "even_fib.sum()"
   ]
  },
  {
   "cell_type": "code",
   "execution_count": 10,
   "id": "secondary-antarctica",
   "metadata": {},
   "outputs": [],
   "source": [
    "import math"
   ]
  },
  {
   "cell_type": "code",
   "execution_count": 113,
   "id": "frozen-heather",
   "metadata": {},
   "outputs": [],
   "source": [
    "def find_factors(num):\n",
    "    factors = []\n",
    "    for i in range(2, num):\n",
    "        if num % i == 0:\n",
    "            factors.append(i)\n",
    "    return factors"
   ]
  },
  {
   "cell_type": "code",
   "execution_count": 114,
   "id": "polyphonic-disney",
   "metadata": {},
   "outputs": [],
   "source": [
    "def find_prime_factors(num):\n",
    "    factors = find_factors(num)\n",
    "    prime_factors = []\n",
    "    for factor in factors:\n",
    "        check_fac = find_factors(factor)\n",
    "        if len(check_fac) == 0:\n",
    "            prime_factors.append(factor)\n",
    "    return prime_factors\n"
   ]
  },
  {
   "cell_type": "code",
   "execution_count": 5,
   "id": "recent-audit",
   "metadata": {},
   "outputs": [],
   "source": [
    "def find_max_prime(num):\n",
    "    factors = sorted(find_factors(num), reverse=True)\n",
    "    prime_factors = []\n",
    "    for factor in factors:\n",
    "        check_fac = find_factors(factor)\n",
    "        if len(check_fac) == 0:\n",
    "            return factor"
   ]
  },
  {
   "cell_type": "code",
   "execution_count": 6,
   "id": "future-momentum",
   "metadata": {},
   "outputs": [],
   "source": [
    "def eff_find_max(num):\n",
    "    for i in sorted(list(range(2, num)), reverse=True):\n",
    "        if num % i == 0:\n",
    "            check = True\n",
    "            for factor in sorted(list(range(2, i)), reverse=True):\n",
    "                if i % factor == 0:\n",
    "                    check = False\n",
    "                    break\n",
    "                if check == True:\n",
    "                    return i"
   ]
  },
  {
   "cell_type": "code",
   "execution_count": 17,
   "id": "settled-reform",
   "metadata": {},
   "outputs": [],
   "source": [
    "import math\n",
    "  \n",
    "# A function to find largest prime factor\n",
    "def maxPrimeFactors (n):\n",
    "      \n",
    "    # Initialize the maximum prime factor\n",
    "    # variable with the lowest one\n",
    "    maxPrime = -1\n",
    "      \n",
    "    # Print the number of 2s that divide n\n",
    "    while n % 2 == 0:\n",
    "        maxPrime = 2\n",
    "        n /= 2     # equivalent to n /= 2\n",
    "          \n",
    "    # n must be odd at this point, \n",
    "    # thus skip the even numbers and \n",
    "    # iterate only for odd integers\n",
    "    for i in range(3, int(math.sqrt(n)) + 1, 2):\n",
    "        while n % i == 0:\n",
    "            maxPrime = i\n",
    "            n = n / i\n",
    "      \n",
    "    # This condition is to handle the \n",
    "    # case when n is a prime number \n",
    "    # greater than 2\n",
    "    if n > 2:\n",
    "        maxPrime = n\n",
    "      \n",
    "    return int(maxPrime)"
   ]
  },
  {
   "cell_type": "code",
   "execution_count": 18,
   "id": "violent-polish",
   "metadata": {},
   "outputs": [
    {
     "data": {
      "text/plain": [
       "6857"
      ]
     },
     "execution_count": 18,
     "metadata": {},
     "output_type": "execute_result"
    }
   ],
   "source": [
    "maxPrimeFactors(600851475143)"
   ]
  },
  {
   "cell_type": "code",
   "execution_count": 19,
   "id": "configured-statement",
   "metadata": {},
   "outputs": [],
   "source": [
    "def largest_prime_factor(n):\n",
    "    i = 2\n",
    "    while i * i <= n:\n",
    "        if n % i:\n",
    "            i += 1\n",
    "        else:\n",
    "            n //= i\n",
    "    return n"
   ]
  },
  {
   "cell_type": "code",
   "execution_count": 20,
   "id": "brazilian-rehabilitation",
   "metadata": {},
   "outputs": [
    {
     "data": {
      "text/plain": [
       "6857"
      ]
     },
     "execution_count": 20,
     "metadata": {},
     "output_type": "execute_result"
    }
   ],
   "source": [
    "largest_prime_factor(600851475143)"
   ]
  },
  {
   "cell_type": "code",
   "execution_count": 48,
   "id": "precious-reform",
   "metadata": {},
   "outputs": [],
   "source": [
    "def is_palindrome(num):\n",
    "    check = str(num)\n",
    "    return check == check[::-1]"
   ]
  },
  {
   "cell_type": "code",
   "execution_count": 67,
   "id": "bacterial-leeds",
   "metadata": {},
   "outputs": [],
   "source": [
    "palindromes = []\n",
    "for i in range(100,1000):\n",
    "    for j in range(100,1000):\n",
    "        if is_palindrome(i*j):\n",
    "            palindromes.append(i*j)"
   ]
  },
  {
   "cell_type": "code",
   "execution_count": 68,
   "id": "configured-giant",
   "metadata": {},
   "outputs": [
    {
     "data": {
      "text/plain": [
       "906609"
      ]
     },
     "execution_count": 68,
     "metadata": {},
     "output_type": "execute_result"
    }
   ],
   "source": [
    "max(palindromes)"
   ]
  },
  {
   "cell_type": "code",
   "execution_count": 56,
   "id": "radical-helmet",
   "metadata": {},
   "outputs": [
    {
     "data": {
      "text/plain": [
       "998001"
      ]
     },
     "execution_count": 56,
     "metadata": {},
     "output_type": "execute_result"
    }
   ],
   "source": [
    "999*999"
   ]
  },
  {
   "cell_type": "code",
   "execution_count": 60,
   "id": "incorporated-julian",
   "metadata": {},
   "outputs": [],
   "source": [
    "def c():\n",
    "\tmax = maxI = maxJ = 0\n",
    "\ti = 999\n",
    "\tj = 999\n",
    "\twhile (i > 100):\n",
    "\t\tj = 990\n",
    "\t\twhile (j > 100):\n",
    "\t\t\tproduct = i * j\n",
    "\t\t\tif (product > max):\n",
    "\t\t\t\tproductString = str(product)\n",
    "\t\t\t\tif (productString == productString[::-1]):\n",
    "\t\t\t\t\tmax = product\n",
    "\t\t\t\t\tmaxI = i\n",
    "\t\t\t\t\tmaxJ = j\n",
    "\t\t\tj -= 11\n",
    "\t\ti -= 1\n",
    "\treturn max, maxI, maxJ"
   ]
  },
  {
   "cell_type": "code",
   "execution_count": 61,
   "id": "natural-bosnia",
   "metadata": {},
   "outputs": [
    {
     "data": {
      "text/plain": [
       "(906609, 993, 913)"
      ]
     },
     "execution_count": 61,
     "metadata": {},
     "output_type": "execute_result"
    }
   ],
   "source": [
    "c()"
   ]
  },
  {
   "cell_type": "code",
   "execution_count": 90,
   "id": "opening-fellow",
   "metadata": {},
   "outputs": [],
   "source": [
    "def sub_divide(num):\n",
    "    divisors = list(range(2, num + 1))\n",
    "    redundant = []\n",
    "    for i in range(3, num + 1):\n",
    "        for j in range(2, i):\n",
    "            if i % j == 0:\n",
    "                redundant.append(j)\n",
    "    return [x for x in divisors if x not in redundant]\n",
    "        "
   ]
  },
  {
   "cell_type": "code",
   "execution_count": 96,
   "id": "engaged-storm",
   "metadata": {},
   "outputs": [
    {
     "data": {
      "text/plain": [
       "[10, 11, 12, 13, 14, 15, 16, 17, 18, 19]"
      ]
     },
     "execution_count": 96,
     "metadata": {},
     "output_type": "execute_result"
    }
   ],
   "source": [
    "sub_divide(19)"
   ]
  },
  {
   "cell_type": "code",
   "execution_count": 106,
   "id": "reserved-romance",
   "metadata": {},
   "outputs": [],
   "source": [
    "import math"
   ]
  },
  {
   "cell_type": "code",
   "execution_count": 108,
   "id": "collaborative-strike",
   "metadata": {},
   "outputs": [
    {
     "data": {
      "text/plain": [
       "[11, 12, 13, 14, 15, 16, 17, 18, 19, 20]"
      ]
     },
     "execution_count": 108,
     "metadata": {},
     "output_type": "execute_result"
    }
   ],
   "source": [
    "list(range(math.floor(20/2) + 1, 20 + 1))"
   ]
  },
  {
   "cell_type": "code",
   "execution_count": 152,
   "id": "sudden-ratio",
   "metadata": {},
   "outputs": [],
   "source": [
    "def find_all_prime_factors(num):\n",
    "    factors = find_prime_factors(num)\n",
    "    if len(factors) == 0:\n",
    "        return [num]\n",
    "    else:\n",
    "        return factors"
   ]
  },
  {
   "cell_type": "code",
   "execution_count": 153,
   "id": "proud-camcorder",
   "metadata": {},
   "outputs": [
    {
     "data": {
      "text/plain": [
       "[2, 3, 4, 6]"
      ]
     },
     "execution_count": 153,
     "metadata": {},
     "output_type": "execute_result"
    }
   ],
   "source": [
    "find_all_factors(12)"
   ]
  },
  {
   "cell_type": "code",
   "execution_count": 203,
   "id": "stainless-concern",
   "metadata": {},
   "outputs": [],
   "source": [
    "def div_all(num):\n",
    "    all_nums = range(math.floor(num/2) + 1, num + 1)\n",
    "    all_primes = []\n",
    "    for i in all_nums:\n",
    "        primes = find_all_prime_factors(i)\n",
    "        all_primes.extend(primes)\n",
    "#     return np.array(list(all_primes)).prod()\n",
    "    all_primes = list(set(all_primes))\n",
    "    step = np.array(all_primes).prod()\n",
    "    output = 0 + step\n",
    "    while all(output % np.array(all_nums) == 0) == False:\n",
    "        output += step\n",
    "        print(output)\n",
    "    return output"
   ]
  },
  {
   "cell_type": "code",
   "execution_count": 205,
   "id": "guilty-focus",
   "metadata": {},
   "outputs": [
    {
     "name": "stdout",
     "output_type": "stream",
     "text": [
      "19399380\n",
      "29099070\n",
      "38798760\n",
      "48498450\n",
      "58198140\n",
      "67897830\n",
      "77597520\n",
      "87297210\n",
      "96996900\n",
      "106696590\n",
      "116396280\n",
      "126095970\n",
      "135795660\n",
      "145495350\n",
      "155195040\n",
      "164894730\n",
      "174594420\n",
      "184294110\n",
      "193993800\n",
      "203693490\n",
      "213393180\n",
      "223092870\n",
      "232792560\n"
     ]
    },
    {
     "data": {
      "text/plain": [
       "232792560"
      ]
     },
     "execution_count": 205,
     "metadata": {},
     "output_type": "execute_result"
    }
   ],
   "source": [
    "div_all(20)"
   ]
  },
  {
   "cell_type": "code",
   "execution_count": 111,
   "id": "constitutional-hollywood",
   "metadata": {},
   "outputs": [],
   "source": [
    "test = set()\n",
    "test.update([2,3,4])"
   ]
  },
  {
   "cell_type": "code",
   "execution_count": 112,
   "id": "ranking-subscription",
   "metadata": {},
   "outputs": [
    {
     "data": {
      "text/plain": [
       "{2, 3, 4}"
      ]
     },
     "execution_count": 112,
     "metadata": {},
     "output_type": "execute_result"
    }
   ],
   "source": [
    "test"
   ]
  },
  {
   "cell_type": "code",
   "execution_count": 125,
   "id": "atlantic-assault",
   "metadata": {},
   "outputs": [
    {
     "data": {
      "text/plain": [
       "{2, 3, 4}"
      ]
     },
     "execution_count": 125,
     "metadata": {},
     "output_type": "execute_result"
    }
   ],
   "source": [
    "np.array(test).prod()"
   ]
  },
  {
   "cell_type": "code",
   "execution_count": 144,
   "id": "retired-hunter",
   "metadata": {},
   "outputs": [
    {
     "data": {
      "text/plain": [
       "[2, 3]"
      ]
     },
     "execution_count": 144,
     "metadata": {},
     "output_type": "execute_result"
    }
   ],
   "source": [
    "find_prime_factors(12)"
   ]
  },
  {
   "cell_type": "code",
   "execution_count": 217,
   "id": "acute-botswana",
   "metadata": {},
   "outputs": [
    {
     "name": "stdout",
     "output_type": "stream",
     "text": [
      "2520\n"
     ]
    }
   ],
   "source": [
    "# Python\n",
    " \n",
    "def common_prime_factorization(numbers):\n",
    "    factors = []\n",
    "    for number in numbers:\n",
    "        quotient = number\n",
    "        for factor in factors:\n",
    "            if quotient % factor == 0:\n",
    "                quotient //= factor\n",
    "        if quotient > 1:\n",
    "            factors.append(quotient)\n",
    "    return factors\n",
    "\n",
    "\n",
    "def least_common_multiple(numbers):\n",
    "    return np.array(common_prime_factorization(numbers)).prod()\n",
    "\n",
    "\n",
    "numbers = range(2,11)\n",
    "print(least_common_multiple(numbers))\n"
   ]
  },
  {
   "cell_type": "code",
   "execution_count": 218,
   "id": "native-replacement",
   "metadata": {},
   "outputs": [
    {
     "data": {
      "text/plain": [
       "2520"
      ]
     },
     "execution_count": 218,
     "metadata": {},
     "output_type": "execute_result"
    }
   ],
   "source": [
    "least_common_multiple(numbers)"
   ]
  },
  {
   "cell_type": "markdown",
   "id": "bearing-fundamentals",
   "metadata": {},
   "source": [
    "## Problem 6"
   ]
  },
  {
   "cell_type": "code",
   "execution_count": 7,
   "id": "mexican-basket",
   "metadata": {},
   "outputs": [],
   "source": [
    "def sum_squares(num):\n",
    "    out = 0\n",
    "    for i in range(1, num +1):\n",
    "        out += i**2\n",
    "    return out\n",
    "\n",
    "def square_sums(num):\n",
    "    out = np.array(range(1,num+1)).sum()\n",
    "    return out**2\n",
    "\n",
    "def sum_square_difference(num):\n",
    "    return square_sums(num) - sum_squares(num)"
   ]
  },
  {
   "cell_type": "code",
   "execution_count": 9,
   "id": "intended-hazard",
   "metadata": {},
   "outputs": [
    {
     "data": {
      "text/plain": [
       "25164150"
      ]
     },
     "execution_count": 9,
     "metadata": {},
     "output_type": "execute_result"
    }
   ],
   "source": [
    "sum_square_difference(100)"
   ]
  },
  {
   "cell_type": "markdown",
   "id": "fluid-immigration",
   "metadata": {},
   "source": [
    "## Problem 7"
   ]
  },
  {
   "cell_type": "code",
   "execution_count": 23,
   "id": "editorial-discrimination",
   "metadata": {},
   "outputs": [],
   "source": [
    "def is_prime(num):\n",
    "    for i in range(2,num):\n",
    "        if num % i == 0:\n",
    "            return False\n",
    "    else:\n",
    "        return True"
   ]
  },
  {
   "cell_type": "code",
   "execution_count": 24,
   "id": "unique-parish",
   "metadata": {},
   "outputs": [
    {
     "data": {
      "text/plain": [
       "True"
      ]
     },
     "execution_count": 24,
     "metadata": {},
     "output_type": "execute_result"
    }
   ],
   "source": [
    "is_prime(7)"
   ]
  },
  {
   "cell_type": "code",
   "execution_count": 34,
   "id": "destroyed-sewing",
   "metadata": {},
   "outputs": [],
   "source": [
    "def find_all_prime(num):\n",
    "    primes = [2]\n",
    "    check = 3\n",
    "    while len(primes) < num:\n",
    "        if is_prime(check):\n",
    "            primes.append(check)\n",
    "        check += 2\n",
    "    return primes[-1]"
   ]
  },
  {
   "cell_type": "code",
   "execution_count": 36,
   "id": "operational-carter",
   "metadata": {},
   "outputs": [
    {
     "data": {
      "text/plain": [
       "104743"
      ]
     },
     "execution_count": 36,
     "metadata": {},
     "output_type": "execute_result"
    }
   ],
   "source": [
    "find_all_prime(10001)"
   ]
  },
  {
   "cell_type": "markdown",
   "id": "unavailable-benchmark",
   "metadata": {},
   "source": [
    "## Problem 8"
   ]
  },
  {
   "cell_type": "code",
   "execution_count": 53,
   "id": "existing-courage",
   "metadata": {},
   "outputs": [],
   "source": [
    "string = '''\n",
    "73167176531330624919225119674426574742355349194934\n",
    "96983520312774506326239578318016984801869478851843\n",
    "85861560789112949495459501737958331952853208805511\n",
    "12540698747158523863050715693290963295227443043557\n",
    "66896648950445244523161731856403098711121722383113\n",
    "62229893423380308135336276614282806444486645238749\n",
    "30358907296290491560440772390713810515859307960866\n",
    "70172427121883998797908792274921901699720888093776\n",
    "65727333001053367881220235421809751254540594752243\n",
    "52584907711670556013604839586446706324415722155397\n",
    "53697817977846174064955149290862569321978468622482\n",
    "83972241375657056057490261407972968652414535100474\n",
    "82166370484403199890008895243450658541227588666881\n",
    "16427171479924442928230863465674813919123162824586\n",
    "17866458359124566529476545682848912883142607690042\n",
    "24219022671055626321111109370544217506941658960408\n",
    "07198403850962455444362981230987879927244284909188\n",
    "84580156166097919133875499200524063689912560717606\n",
    "05886116467109405077541002256983155200055935729725\n",
    "71636269561882670428252483600823257530420752963450\n",
    "'''"
   ]
  },
  {
   "cell_type": "code",
   "execution_count": 54,
   "id": "wooden-tomato",
   "metadata": {},
   "outputs": [],
   "source": [
    "num = \"\".join(string.strip().split('\\n'))"
   ]
  },
  {
   "cell_type": "code",
   "execution_count": 58,
   "id": "stone-extreme",
   "metadata": {},
   "outputs": [
    {
     "data": {
      "text/plain": [
       "'7316717653133062491922511967442657474235534919493496983520312774506326239578318016984801869478851843858615607891129494954595017379583319528532088055111254069874715852386305071569329096329522744304355766896648950445244523161731856403098711121722383113622298934233803081353362766142828064444866452387493035890729629049156044077239071381051585930796086670172427121883998797908792274921901699720888093776657273330010533678812202354218097512545405947522435258490771167055601360483958644670632441572215539753697817977846174064955149290862569321978468622482839722413756570560574902614079729686524145351004748216637048440319989000889524345065854122758866688116427171479924442928230863465674813919123162824586178664583591245665294765456828489128831426076900422421902267105562632111110937054421750694165896040807198403850962455444362981230987879927244284909188845801561660979191338754992005240636899125607176060588611646710940507754100225698315520005593572972571636269561882670428252483600823257530420752963450'"
      ]
     },
     "execution_count": 58,
     "metadata": {},
     "output_type": "execute_result"
    }
   ],
   "source": [
    "num"
   ]
  },
  {
   "cell_type": "code",
   "execution_count": 64,
   "id": "incorporated-exception",
   "metadata": {},
   "outputs": [],
   "source": [
    "def find_max_product(num, length):\n",
    "    max_product = 0\n",
    "    for i in range(len(num) - length):\n",
    "        prod = 1\n",
    "        for j in range(length):\n",
    "            prod *= int(num[i +j])\n",
    "        max_product = max(max_product, prod)\n",
    "    return max_product"
   ]
  },
  {
   "cell_type": "code",
   "execution_count": 66,
   "id": "objective-debate",
   "metadata": {},
   "outputs": [
    {
     "data": {
      "text/plain": [
       "23514624000"
      ]
     },
     "execution_count": 66,
     "metadata": {},
     "output_type": "execute_result"
    }
   ],
   "source": [
    "find_max_product(num, 13)"
   ]
  },
  {
   "cell_type": "markdown",
   "id": "twenty-civilian",
   "metadata": {},
   "source": [
    "## Problem 9"
   ]
  },
  {
   "cell_type": "code",
   "execution_count": 5,
   "id": "signal-effectiveness",
   "metadata": {},
   "outputs": [],
   "source": [
    "def pythag_triplet(target_sum):\n",
    "    for a in range(1, target_sum//3 + 1):\n",
    "        for b in range(a, target_sum):\n",
    "            c = target_sum - (a+b)\n",
    "            if c**2 != a**2 + b**2:\n",
    "                continue\n",
    "            else:\n",
    "                return (a,b,c, a*b*c)\n",
    "    "
   ]
  },
  {
   "cell_type": "code",
   "execution_count": 6,
   "id": "spoken-continuity",
   "metadata": {},
   "outputs": [
    {
     "data": {
      "text/plain": [
       "(200, 375, 425, 31875000)"
      ]
     },
     "execution_count": 6,
     "metadata": {},
     "output_type": "execute_result"
    }
   ],
   "source": [
    "pythag_triplet(1000)"
   ]
  },
  {
   "cell_type": "code",
   "execution_count": 69,
   "id": "elder-advantage",
   "metadata": {},
   "outputs": [],
   "source": [
    "# def pythag_adv(target_sum):\n",
    "#     for m in range(1,target_sum //3):\n",
    "#         for n in range(m, taget_sum/2):\n",
    "            \n",
    "    \n",
    "#     a = (m**2 - n**2)**2\n",
    "#     b = (2*m*n)**2\n",
    "#     c = (m**2 + n**2)**2\n",
    "    "
   ]
  },
  {
   "cell_type": "markdown",
   "id": "bacterial-noise",
   "metadata": {},
   "source": [
    "## Problem 10"
   ]
  },
  {
   "cell_type": "code",
   "execution_count": 7,
   "id": "american-wrestling",
   "metadata": {},
   "outputs": [
    {
     "data": {
      "text/plain": [
       "[3, 5]"
      ]
     },
     "execution_count": 7,
     "metadata": {},
     "output_type": "execute_result"
    }
   ],
   "source": [
    "list(range(3,7,2))"
   ]
  },
  {
   "cell_type": "code",
   "execution_count": 74,
   "id": "perceived-black",
   "metadata": {},
   "outputs": [],
   "source": [
    "def sum_of_primes(top):\n",
    "    \n",
    "    # function to determine if the number is prime\n",
    "    def is_prime(num):\n",
    "        for i in range(3, int(num**.5) + 1):\n",
    "            if num % i == 0:  \n",
    "                return False\n",
    "        return True\n",
    "    \n",
    "    # initialize output and first number to check\n",
    "    output = 2\n",
    "    check = 3\n",
    "    while check < top:\n",
    "        if is_prime(check):\n",
    "            output += check\n",
    "        check += 2\n",
    "        \n",
    "    return output"
   ]
  },
  {
   "cell_type": "code",
   "execution_count": 83,
   "id": "numeric-valve",
   "metadata": {},
   "outputs": [
    {
     "name": "stdout",
     "output_type": "stream",
     "text": [
      "1999998999999\n"
     ]
    }
   ],
   "source": [
    "limit = 2000000\n",
    "arr = [True] * limit\n",
    "\n",
    "def sieve(x):\n",
    "\tglobal arr,limit\n",
    "\tfor i in range(x*2,limit,x):\n",
    "\t\tarr[i] = False\n",
    "\n",
    "map(sieve, range(2,int(limit**.5)))\n",
    "\n",
    "primes = []\n",
    "for i in range(2,limit):\n",
    "\tif arr[i]: primes.append(i)\n",
    "\n",
    "sum = 0\n",
    "for p in primes: sum += p\n",
    "print(sum)"
   ]
  },
  {
   "cell_type": "code",
   "execution_count": 66,
   "id": "affected-combat",
   "metadata": {},
   "outputs": [
    {
     "data": {
      "text/plain": [
       "142913828922"
      ]
     },
     "execution_count": 66,
     "metadata": {},
     "output_type": "execute_result"
    }
   ],
   "source": [
    "sum_of_primes(2000000)"
   ]
  },
  {
   "cell_type": "code",
   "execution_count": 75,
   "id": "listed-plasma",
   "metadata": {},
   "outputs": [
    {
     "data": {
      "text/plain": [
       "142913828922"
      ]
     },
     "execution_count": 75,
     "metadata": {},
     "output_type": "execute_result"
    }
   ],
   "source": [
    "sum_of_primes(2000000)"
   ]
  },
  {
   "cell_type": "markdown",
   "id": "governing-slovenia",
   "metadata": {},
   "source": [
    "## Problem 11"
   ]
  },
  {
   "cell_type": "code",
   "execution_count": null,
   "id": "sensitive-translation",
   "metadata": {},
   "outputs": [],
   "source": []
  }
 ],
 "metadata": {
  "kernelspec": {
   "display_name": "Python [conda env:ds01] *",
   "language": "python",
   "name": "conda-env-ds01-py"
  },
  "language_info": {
   "codemirror_mode": {
    "name": "ipython",
    "version": 3
   },
   "file_extension": ".py",
   "mimetype": "text/x-python",
   "name": "python",
   "nbconvert_exporter": "python",
   "pygments_lexer": "ipython3",
   "version": "3.6.9"
  }
 },
 "nbformat": 4,
 "nbformat_minor": 5
}
